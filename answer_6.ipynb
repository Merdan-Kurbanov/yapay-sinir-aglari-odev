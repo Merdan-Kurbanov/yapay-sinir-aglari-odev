{
  "nbformat": 4,
  "nbformat_minor": 0,
  "metadata": {
    "colab": {
      "provenance": []
    },
    "kernelspec": {
      "name": "python3",
      "display_name": "Python 3"
    },
    "language_info": {
      "name": "python"
    },
    "gpuClass": "standard"
  },
  "cells": [
    {
      "cell_type": "code",
      "source": [
        "l1_lambda = 0.001 # L1 regularization lambda hyperparameter\n",
        "l1_reg = torch.tensor(0.)\n",
        "for name, param in model.named_parameters():\n",
        "    if 'weight' in name:\n",
        "        l1_reg += torch.norm(param, p=1)\n",
        "loss += l1_lambda * l1_reg\n"
      ],
      "metadata": {
        "id": "bS3uGNQdRQF_"
      },
      "execution_count": 10,
      "outputs": []
    },
    {
      "cell_type": "code",
      "source": [
        "l2_lambda = 0.001 # L2 regularization lambda hyperparameter\n",
        "l2_reg = torch.tensor(0.)\n",
        "for name, param in model.named_parameters():\n",
        "    if 'weight' in name:\n",
        "        l2_reg += torch.norm(param)\n",
        "loss += (l2_lambda / 2) * l2_reg\n"
      ],
      "metadata": {
        "id": "w4GcPoS0SO_u"
      },
      "execution_count": 11,
      "outputs": []
    },
    {
      "cell_type": "code",
      "source": [],
      "metadata": {
        "id": "GkR2cW9XSTcV"
      },
      "execution_count": null,
      "outputs": []
    }
  ]
}