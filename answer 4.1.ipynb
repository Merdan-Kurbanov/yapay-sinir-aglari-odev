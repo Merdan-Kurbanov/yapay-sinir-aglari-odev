{
  "nbformat": 4,
  "nbformat_minor": 0,
  "metadata": {
    "colab": {
      "provenance": []
    },
    "kernelspec": {
      "name": "python3",
      "display_name": "Python 3"
    },
    "language_info": {
      "name": "python"
    }
  },
  "cells": [
    {
      "cell_type": "code",
      "source": [
        "import torch\n",
        "\n",
        "# X matrisi tanımlama\n",
        "X = torch.tensor([[1, 2, 3], [4, 5, 6]], dtype=torch.float)\n"
      ],
      "metadata": {
        "id": "yWT_Ul4uXvfS"
      },
      "execution_count": 120,
      "outputs": []
    },
    {
      "cell_type": "code",
      "source": [
        "# Random weight ve bias değerlerini oluşturma\n",
        "\n",
        "#Bu işlemi, aynı random değerlerin her seferinde oluşmasını sağlamak için kullanıyoruz.\n",
        "torch.manual_seed(1)\n",
        "#hidden_weight ve hidden_bias, gizli katmandaki 50 nöron için kullanılan ağırlıklar ve sapmalardır.\n",
        "#hidden_weight matrisi, 3 giriş ve 50 çıkış olacak şekilde boyutlandırılmıştır.\n",
        "hidden_weight = torch.randn(3, 50)\n",
        "#hidden_bias matrisi, 1 satır ve 50 sütundan oluşur ve her nöronun bir sapması vardır.\n",
        "hidden_bias = torch.randn(1, 50)\n",
        "#output_weight ve output_bias, çıkış nöronunun ağırlıkları ve sapmasıdır.\n",
        "#output_weight matrisi, 50 giriş ve 1 çıkış olacak şekilde boyutlandırılmıştır.\n",
        "output_weight = torch.randn(50, 1)\n",
        "#output_bias matrisi, 1 satır ve 1 sütundan oluşur ve çıkış nöronunun bir sapması vardır.\n",
        "output_bias = torch.randn(1, 1)"
      ],
      "metadata": {
        "id": "OPbC-b4EXv-2"
      },
      "execution_count": 121,
      "outputs": []
    },
    {
      "cell_type": "code",
      "source": [
        "# Tanh aktivasyon fonksiyonu\n",
        "def tanh_activation(x):\n",
        "    return (torch.exp(x) - torch.exp(-x)) / (torch.exp(x) + torch.exp(-x))\n",
        "\n",
        "#Sigmoid aktivasyon fonksiyonu\n",
        "def sigmoid_activation(x):\n",
        "    return 1 / (1 + torch.exp(-x))"
      ],
      "metadata": {
        "id": "1LwqZgVuPUUX"
      },
      "execution_count": 122,
      "outputs": []
    },
    {
      "cell_type": "code",
      "source": [
        "# Forward propagation\n",
        "\n",
        "#hidden_layer değişkeni, veri matrisi X ile hidden layer'ın weight değerlerinin matris çarpımına, sonrasında bias değerinin eklenmesine ve ardından tanh aktivasyon fonksiyonuna uygulanması sonucu oluşur.\n",
        "hidden_layer = tanh_activation(torch.matmul(X, hidden_weight) + hidden_bias)\n",
        "#output_layer değişkeni ise, hidden_layer değişkeninin sigmoid aktivasyon fonksiyonuna uygulanması sonucu oluşur. Önce hidden_layer ile output layer'ın weight değerlerinin matris çarpımı yapılır, ardından bias değeri eklenir ve son olarak sigmoid aktivasyon fonksiyonu uygulanır.\n",
        "output_layer = sigmoid_activation(torch.matmul(hidden_layer, output_weight) + output_bias)\n",
        "\n",
        "print(output_layer)"
      ],
      "metadata": {
        "colab": {
          "base_uri": "https://localhost:8080/"
        },
        "id": "4tkOrxXyPW3_",
        "outputId": "3c912e32-5738-4fb0-ce64-a1cb76809425"
      },
      "execution_count": 123,
      "outputs": [
        {
          "output_type": "stream",
          "name": "stdout",
          "text": [
            "tensor([[0.0498],\n",
            "        [0.0075]])\n"
          ]
        }
      ]
    },
    {
      "cell_type": "code",
      "source": [],
      "metadata": {
        "id": "9jtmsejYQfEE"
      },
      "execution_count": null,
      "outputs": []
    }
  ]
}