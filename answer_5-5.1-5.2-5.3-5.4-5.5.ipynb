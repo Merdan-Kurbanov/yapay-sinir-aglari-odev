{
  "nbformat": 4,
  "nbformat_minor": 0,
  "metadata": {
    "colab": {
      "provenance": []
    },
    "kernelspec": {
      "name": "python3",
      "display_name": "Python 3"
    },
    "language_info": {
      "name": "python"
    },
    "gpuClass": "standard"
  },
  "cells": [
    {
      "cell_type": "markdown",
      "source": [
        "5.1 Iki hidden layer’lı bir Multilayer Perceptron (MLP) olu ̧sturun be ̧sinci ve altıncı haf-\n",
        "talarda yaptı ̆gımız gibi. Hazır aktivasyon fonksiyonlarını kullanmak serbest.  ̇Ilk hidden\n",
        "layer’da 100, ikinci hidden layer’da 50 n ̈oron olsun. Hidden layer’larda ReLU, output\n",
        "layer’da sigmoid aktivasyonu olsun.\n",
        "Bu MLP'nin pytorch ile yazılmış class'ının kodunu aşağı kod bloğuna yapıştırın:\n"
      ],
      "metadata": {
        "id": "pMNLsStt7OGe"
      }
    },
    {
      "cell_type": "code",
      "source": [
        "import torch\n",
        "import torch.nn as nn\n",
        "import time\n",
        "device = torch.device(\"cuda\" if torch.cuda.is_available() else \"cpu\")\n",
        "print(f\"Kullanılan cihaz: {device}\")\n",
        "\n",
        "start_time = time.time()\n",
        "\n",
        "class MLP(nn.Module):\n",
        "    def __init__(self, input_size, hidden_size1, hidden_size2, output_size):\n",
        "        super(MLP, self).__init__()\n",
        "        self.fc1 = nn.Linear(input_size, hidden_size1)\n",
        "        self.fc2 = nn.Linear(hidden_size1, hidden_size2)\n",
        "        self.fc3 = nn.Linear(hidden_size2, output_size)\n",
        "        self.relu = nn.ReLU()\n",
        "        self.sigmoid = nn.Sigmoid()\n",
        "        \n",
        "    def forward(self, x):\n",
        "        out = self.relu(self.fc1(x))\n",
        "        out = self.relu(self.fc2(out))\n",
        "        out = self.sigmoid(self.fc3(out))\n",
        "        return out\n",
        "\n",
        "# Initialize model\n",
        "model = MLP(input_size=10, hidden_size1=100, hidden_size2=50, output_size=1)\n"
      ],
      "metadata": {
        "colab": {
          "base_uri": "https://localhost:8080/"
        },
        "id": "M1oQlOi97XNB",
        "outputId": "f9511cba-7fba-42d6-adc8-2699838cbf97"
      },
      "execution_count": 1,
      "outputs": [
        {
          "output_type": "stream",
          "name": "stdout",
          "text": [
            "Kullanılan cihaz: cpu\n"
          ]
        }
      ]
    },
    {
      "cell_type": "markdown",
      "source": [
        "5.2 SEED=öğrenci numaranız set ettikten sonra altıncı haftada yazdığımız gibi training batch'lerinden eğitim loss'ları, validation batch'lerinden validasyon loss değerlerini hesaplayan kodu aşağıdaki kod bloğuna yapıştırın ve çıkan figürü de alta ekleyin."
      ],
      "metadata": {
        "id": "mm-ywAJo8cgy"
      }
    },
    {
      "cell_type": "code",
      "source": [
        "import torch\n",
        "import torch.nn as nn\n",
        "import torch.optim as optim\n",
        "from torch.utils.data import DataLoader, TensorDataset\n",
        "import pandas as pd\n",
        "\n",
        "# Verileri yükleyelim\n",
        "train_df = pd.read_csv('/content/sample_data/cure_the_princess_train.csv')\n",
        "valid_df = pd.read_csv('/content/sample_data/cure_the_princess_validation.csv')\n",
        "\n",
        "X_train = torch.tensor(train_df.drop(['Cured'], axis=1).values, dtype=torch.float32)\n",
        "y_train = torch.tensor(train_df['Cured'].values, dtype=torch.float32)\n",
        "X_valid = torch.tensor(valid_df.drop(['Cured'], axis=1).values, dtype=torch.float32)\n",
        "y_valid = torch.tensor(valid_df['Cured'].values, dtype=torch.float32)"
      ],
      "metadata": {
        "id": "QgzmV0iO8dTP"
      },
      "execution_count": 2,
      "outputs": []
    },
    {
      "cell_type": "code",
      "source": [
        "class MLP(nn.Module):\n",
        "    def __init__(self, input_dim, hidden_dim1, hidden_dim2, output_dim):\n",
        "        super(MLP, self).__init__()\n",
        "        self.fc1 = nn.Linear(input_dim, hidden_dim1)\n",
        "        self.fc2 = nn.Linear(hidden_dim1, hidden_dim2)\n",
        "        self.fc3 = nn.Linear(hidden_dim2, output_dim)\n",
        "        self.relu = nn.ReLU()\n",
        "        self.sigmoid = nn.Sigmoid()\n",
        "        \n",
        "    def forward(self, x):\n",
        "        out = self.fc1(x)\n",
        "        out = self.relu(out)\n",
        "        out = self.fc2(out)\n",
        "        out = self.relu(out)\n",
        "        out = self.fc3(out)\n",
        "        out = self.sigmoid(out)\n",
        "        return out"
      ],
      "metadata": {
        "id": "XqVtPMvn8idG"
      },
      "execution_count": 3,
      "outputs": []
    },
    {
      "cell_type": "code",
      "source": [
        "SEED = 180401121\n",
        "torch.manual_seed(SEED)\n",
        "\n",
        "EPOCHS = 50\n",
        "LEARNING_RATE = 0.01\n",
        "BATCH_SIZE = 16\n",
        "INPUT_DIM = X_train.shape[1]\n",
        "HIDDEN_DIM1 = 100\n",
        "HIDDEN_DIM2 = 50\n",
        "OUTPUT_DIM = 1\n",
        "\n",
        "train_ds = TensorDataset(X_train, y_train)\n",
        "valid_ds = TensorDataset(X_valid, y_valid)\n",
        "\n",
        "train_dl = DataLoader(train_ds, batch_size=BATCH_SIZE, shuffle=True)\n",
        "valid_dl = DataLoader(valid_ds, batch_size=BATCH_SIZE)\n",
        "\n",
        "model = MLP(INPUT_DIM, HIDDEN_DIM1, HIDDEN_DIM2, OUTPUT_DIM)\n",
        "criterion = nn.BCELoss()\n",
        "optimizer = optim.SGD(model.parameters(), lr=LEARNING_RATE)\n",
        "\n",
        "for epoch in range(EPOCHS):\n",
        "    train_loss = 0.0\n",
        "    valid_loss = 0.0\n",
        "    \n",
        "    model.train()\n",
        "    for i, (inputs, targets) in enumerate(train_dl):\n",
        "        optimizer.zero_grad()\n",
        "        outputs = model(inputs)\n",
        "        loss = criterion(outputs, targets.view(-1, 1))\n",
        "        loss.backward()\n",
        "        optimizer.step()\n",
        "        train_loss += loss.item()\n",
        "\n",
        "    model.eval()\n",
        "    with torch.no_grad():\n",
        "        for i, (inputs, targets) in enumerate(valid_dl):\n",
        "            outputs = model(inputs)\n",
        "            loss = criterion(outputs, targets.view(-1, 1))\n",
        "            valid_loss += loss.item()\n",
        "    \n",
        "    train_loss /= len(train_dl)\n",
        "    valid_loss /= len(valid_dl)\n",
        "    \n",
        "    print('Epoch: %d/%d, Training Loss: %.4f, Validation Loss: %.4f' % (epoch+1, EPOCHS, train_loss, valid_loss))"
      ],
      "metadata": {
        "colab": {
          "base_uri": "https://localhost:8080/"
        },
        "id": "B1a5Z2ll80Zw",
        "outputId": "9138c1bf-bfc2-4873-83ad-7d72205500c6"
      },
      "execution_count": 4,
      "outputs": [
        {
          "output_type": "stream",
          "name": "stdout",
          "text": [
            "Epoch: 1/50, Training Loss: 0.5800, Validation Loss: 0.4907\n",
            "Epoch: 2/50, Training Loss: 0.4377, Validation Loss: 0.6227\n",
            "Epoch: 3/50, Training Loss: 0.3373, Validation Loss: 0.2550\n",
            "Epoch: 4/50, Training Loss: 0.3069, Validation Loss: 0.2819\n",
            "Epoch: 5/50, Training Loss: 0.2679, Validation Loss: 0.2328\n",
            "Epoch: 6/50, Training Loss: 0.2623, Validation Loss: 0.2239\n",
            "Epoch: 7/50, Training Loss: 0.2298, Validation Loss: 0.2581\n",
            "Epoch: 8/50, Training Loss: 0.2210, Validation Loss: 0.1645\n",
            "Epoch: 9/50, Training Loss: 0.2221, Validation Loss: 0.1570\n",
            "Epoch: 10/50, Training Loss: 0.1904, Validation Loss: 0.1493\n",
            "Epoch: 11/50, Training Loss: 0.1832, Validation Loss: 0.1892\n",
            "Epoch: 12/50, Training Loss: 0.1656, Validation Loss: 0.2096\n",
            "Epoch: 13/50, Training Loss: 0.1660, Validation Loss: 0.2439\n",
            "Epoch: 14/50, Training Loss: 0.1533, Validation Loss: 0.1371\n",
            "Epoch: 15/50, Training Loss: 0.1431, Validation Loss: 0.1641\n",
            "Epoch: 16/50, Training Loss: 0.1424, Validation Loss: 0.1711\n",
            "Epoch: 17/50, Training Loss: 0.1435, Validation Loss: 0.1334\n",
            "Epoch: 18/50, Training Loss: 0.1265, Validation Loss: 0.1440\n",
            "Epoch: 19/50, Training Loss: 0.1373, Validation Loss: 0.6996\n",
            "Epoch: 20/50, Training Loss: 0.1365, Validation Loss: 0.1843\n",
            "Epoch: 21/50, Training Loss: 0.1232, Validation Loss: 0.1320\n",
            "Epoch: 22/50, Training Loss: 0.1154, Validation Loss: 0.1453\n",
            "Epoch: 23/50, Training Loss: 0.1010, Validation Loss: 0.1310\n",
            "Epoch: 24/50, Training Loss: 0.1028, Validation Loss: 0.1578\n",
            "Epoch: 25/50, Training Loss: 0.1025, Validation Loss: 0.1252\n",
            "Epoch: 26/50, Training Loss: 0.0989, Validation Loss: 0.1645\n",
            "Epoch: 27/50, Training Loss: 0.1002, Validation Loss: 0.1393\n",
            "Epoch: 28/50, Training Loss: 0.0928, Validation Loss: 0.1408\n",
            "Epoch: 29/50, Training Loss: 0.0936, Validation Loss: 0.1442\n",
            "Epoch: 30/50, Training Loss: 0.0856, Validation Loss: 0.1328\n",
            "Epoch: 31/50, Training Loss: 0.0835, Validation Loss: 0.1468\n",
            "Epoch: 32/50, Training Loss: 0.0823, Validation Loss: 0.1357\n",
            "Epoch: 33/50, Training Loss: 0.0781, Validation Loss: 0.1324\n",
            "Epoch: 34/50, Training Loss: 0.0818, Validation Loss: 0.4045\n",
            "Epoch: 35/50, Training Loss: 0.0857, Validation Loss: 0.1388\n",
            "Epoch: 36/50, Training Loss: 0.0835, Validation Loss: 0.1568\n",
            "Epoch: 37/50, Training Loss: 0.0809, Validation Loss: 0.1378\n",
            "Epoch: 38/50, Training Loss: 0.0700, Validation Loss: 0.1553\n",
            "Epoch: 39/50, Training Loss: 0.0668, Validation Loss: 0.1450\n",
            "Epoch: 40/50, Training Loss: 0.0609, Validation Loss: 0.1279\n",
            "Epoch: 41/50, Training Loss: 0.0710, Validation Loss: 0.9491\n",
            "Epoch: 42/50, Training Loss: 0.0841, Validation Loss: 0.5020\n",
            "Epoch: 43/50, Training Loss: 0.0774, Validation Loss: 0.1918\n",
            "Epoch: 44/50, Training Loss: 0.0600, Validation Loss: 0.1536\n",
            "Epoch: 45/50, Training Loss: 0.0543, Validation Loss: 0.1471\n",
            "Epoch: 46/50, Training Loss: 0.0555, Validation Loss: 0.1389\n",
            "Epoch: 47/50, Training Loss: 0.0512, Validation Loss: 0.1429\n",
            "Epoch: 48/50, Training Loss: 0.0521, Validation Loss: 0.1513\n",
            "Epoch: 49/50, Training Loss: 0.0587, Validation Loss: 0.1557\n",
            "Epoch: 50/50, Training Loss: 0.0451, Validation Loss: 0.1388\n"
          ]
        }
      ]
    },
    {
      "cell_type": "markdown",
      "source": [
        "Figure cizdirdik "
      ],
      "metadata": {
        "id": "4yaaLS2m9IlV"
      }
    },
    {
      "cell_type": "code",
      "source": [
        "import seaborn as sns\n",
        "import matplotlib.pyplot as plt\n",
        "\n",
        "sns.set_style(\"darkgrid\")\n",
        "train_losses, val_losses = [], []\n",
        "for epoch in range(EPOCHS):\n",
        "    train_loss = 0.0\n",
        "    valid_loss = 0.0\n",
        "    \n",
        "    model.train()\n",
        "    for i, (inputs, targets) in enumerate(train_dl):\n",
        "        optimizer.zero_grad()\n",
        "        outputs = model(inputs)\n",
        "        loss = criterion(outputs, targets.view(-1, 1))\n",
        "        loss.backward()\n",
        "        optimizer.step()\n",
        "        train_loss += loss.item()\n",
        "\n",
        "    model.eval()\n",
        "    with torch.no_grad():\n",
        "        for i, (inputs, targets) in enumerate(valid_dl):\n",
        "            outputs = model(inputs)\n",
        "            loss = criterion(outputs, targets.view(-1, 1))\n",
        "            valid_loss += loss.item()\n",
        "    \n",
        "    train_loss /= len(train_dl)\n",
        "    valid_loss /= len(valid_dl)\n",
        "    train_losses.append(train_loss)\n",
        "    val_losses.append(valid_loss)\n",
        "    \n",
        "plt.plot(train_losses, label=\"Training loss\")\n",
        "plt.plot(val_losses, label=\"Validation loss\")\n",
        "plt.xlabel(\"Epoch\")\n",
        "plt.ylabel(\"Loss\")\n",
        "plt.legend()\n",
        "plt.show()"
      ],
      "metadata": {
        "colab": {
          "base_uri": "https://localhost:8080/",
          "height": 449
        },
        "id": "0Ib-vdn09Kky",
        "outputId": "d9941f15-d468-4800-d6e2-4ccd63ab7ed4"
      },
      "execution_count": 5,
      "outputs": [
        {
          "output_type": "display_data",
          "data": {
            "text/plain": [
              "<Figure size 640x480 with 1 Axes>"
            ],
            "image/png": "[encoded data removed]"
          },
          "metadata": {}
        }
      ]
    },
    {
      "cell_type": "markdown",
      "source": [
        "5.3 SEED=öğrenci numaranız set ettikten sonra altıncı haftada ödev olarak verdiğim gibi earlystopping'deki en iyi modeli kullanarak, Prensesi İyileştir test setinden accuracy, F1, precision ve recall değerlerini hesaplayan kodu yazın ve sonucu da aşağı yapıştırın. \\%80'den fazla başarı bekliyorum test setinden. Daha düşükse başarı oranınız, nerede hata yaptığınızı bulmaya çalışın. \\%90'dan fazla başarı almak mümkün (ben denedim)"
      ],
      "metadata": {
        "id": "a21bs2729hCF"
      }
    },
    {
      "cell_type": "code",
      "source": [
        "import torch\n",
        "import torch.nn as nn\n",
        "import torch.optim as optim\n",
        "from torch.utils.data import DataLoader, TensorDataset\n",
        "from sklearn.metrics import accuracy_score, f1_score, precision_score, recall_score\n",
        "import pandas as pd\n",
        "\n",
        "# Verileri yükleyelim\n",
        "train_df = pd.read_csv('/content/sample_data/cure_the_princess_train.csv')\n",
        "valid_df = pd.read_csv('/content/sample_data/cure_the_princess_validation.csv')\n",
        "test_df = pd.read_csv('/content/sample_data/cure_the_princess_test.csv')\n",
        "\n",
        "X_train = torch.tensor(train_df.drop(['Cured'], axis=1).values, dtype=torch.float32)\n",
        "y_train = torch.tensor(train_df['Cured'].values, dtype=torch.float32)\n",
        "X_valid = torch.tensor(valid_df.drop(['Cured'], axis=1).values, dtype=torch.float32)\n",
        "y_valid = torch.tensor(valid_df['Cured'].values, dtype=torch.float32)\n",
        "X_test = torch.tensor(test_df.drop(['Cured'], axis=1).values, dtype=torch.float32)\n",
        "y_test = torch.tensor(test_df['Cured'].values, dtype=torch.float32)"
      ],
      "metadata": {
        "id": "WfwjH81P9jzF"
      },
      "execution_count": 6,
      "outputs": []
    },
    {
      "cell_type": "code",
      "source": [
        "# Modelimizi tanımlayalım\n",
        "class MLP(nn.Module):\n",
        "    def __init__(self, input_dim, hidden_dim, output_dim):\n",
        "        super().__init__()\n",
        "        self.fc1 = nn.Linear(input_dim, hidden_dim)\n",
        "        self.relu = nn.ReLU()\n",
        "        self.fc2 = nn.Linear(hidden_dim, output_dim)\n",
        "        self.sigmoid = nn.Sigmoid()\n",
        "\n",
        "    def forward(self, x):\n",
        "        out = self.fc1(x)\n",
        "        out = self.relu(out)\n",
        "        out = self.fc2(out)\n",
        "        out = self.sigmoid(out)\n",
        "        return out\n",
        "\n",
        "# Modelimizi eğitelim\n",
        "SEED = 180401121\n",
        "\n",
        "torch.manual_seed(SEED)\n",
        "\n",
        "BATCH_SIZE = 16\n",
        "NUM_EPOCHS = 100\n",
        "\n",
        "train_ds = TensorDataset(X_train, y_train)\n",
        "valid_ds = TensorDataset(X_valid, y_valid)\n",
        "test_ds = TensorDataset(X_test, y_test)\n",
        "\n",
        "train_dl = DataLoader(train_ds, batch_size=BATCH_SIZE, shuffle=True)\n",
        "valid_dl = DataLoader(valid_ds, batch_size=BATCH_SIZE)\n",
        "test_dl = DataLoader(test_ds, batch_size=BATCH_SIZE)\n",
        "\n",
        "model = MLP(X_train.shape[1], 32, 1)\n",
        "\n",
        "optimizer = optim.Adam(model.parameters(), lr=0.01)\n",
        "\n",
        "criterion = nn.BCELoss()\n",
        "\n",
        "best_valid_loss = float('inf')\n",
        "best_model = None\n",
        "\n",
        "for epoch in range(NUM_EPOCHS):\n",
        "\n",
        "    train_loss = 0.0\n",
        "    model.train()\n",
        "\n",
        "    for i, (inputs, targets) in enumerate(train_dl):\n",
        "        optimizer.zero_grad()\n",
        "        outputs = model(inputs)\n",
        "        loss = criterion(outputs, targets.unsqueeze(1))\n",
        "        loss.backward()\n",
        "        optimizer.step()\n",
        "        train_loss += loss.item()\n",
        "\n",
        "    train_loss /= len(train_dl)\n",
        "\n",
        "    valid_loss = 0.0\n",
        "    model.eval()\n",
        "\n",
        "    with torch.no_grad():\n",
        "        for inputs, targets in valid_dl:\n",
        "            outputs = model(inputs)\n",
        "            loss = criterion(outputs, targets.unsqueeze(1))\n",
        "            valid_loss += loss.item()\n",
        "\n",
        "    valid_loss /= len(valid_dl)\n",
        "\n",
        "    if valid_loss < best_valid_loss:\n",
        "        best_valid_loss = valid_loss\n",
        "        best_model = model\n",
        "\n",
        "    #print(f'Epoch: {epoch+1}, Train Loss: {train_loss:.4f}, Valid Loss: {valid_loss:.4f}')\n",
        "\n",
        "# En iyi modeli seçelim\n",
        "model = best_model\n",
        "\n",
        "# Test setinde modelin performansını ölçelim\n",
        "model.eval\n",
        "y_true = []\n",
        "y_pred = []\n",
        "\n",
        "with torch.no_grad():\n",
        "    for inputs, targets in test_dl:\n",
        "        outputs = model(inputs)\n",
        "        predicted = (outputs >= 0.5).float()\n",
        "        y_true += targets.tolist()\n",
        "        y_pred += predicted.tolist()\n",
        "\n",
        "test_accuracy = accuracy_score(y_true, y_pred)\n",
        "test_f1 = f1_score(y_true, y_pred)\n",
        "test_precision = precision_score(y_true, y_pred)\n",
        "test_recall = recall_score(y_true, y_pred)\n",
        "\n",
        "print(f'Test accuracy: {test_accuracy:.4f}')\n",
        "print(f'Test F1 score: {test_f1:.4f}')\n",
        "print(f'Test precision: {test_precision:.4f}')\n",
        "print(f'Test recall: {test_recall:.4f}')"
      ],
      "metadata": {
        "colab": {
          "base_uri": "https://localhost:8080/"
        },
        "id": "blT5isom-ElY",
        "outputId": "88578e1a-fc68-44f2-af1f-eb43648b45ba"
      },
      "execution_count": 7,
      "outputs": [
        {
          "output_type": "stream",
          "name": "stdout",
          "text": [
            "Test accuracy: 0.9391\n",
            "Test F1 score: 0.9394\n",
            "Test precision: 0.9406\n",
            "Test recall: 0.9381\n"
          ]
        }
      ]
    },
    {
      "cell_type": "code",
      "source": [
        "end_time = time.time()\n",
        "\n",
        "print(f\"Toplam süre: {end_time - start_time:.2f} saniye\")"
      ],
      "metadata": {
        "colab": {
          "base_uri": "https://localhost:8080/"
        },
        "id": "cv0v_PTU-Lgj",
        "outputId": "9301ac1f-8be8-460c-82a4-3c85fb7249b7"
      },
      "execution_count": 8,
      "outputs": [
        {
          "output_type": "stream",
          "name": "stdout",
          "text": [
            "Toplam süre: 21.07 saniye\n"
          ]
        }
      ]
    },
    {
      "cell_type": "markdown",
      "source": [
        "5.4 Tüm kodların CPU'da çalışması ne kadar sürüyor hesaplayın. Sonra to device yöntemini kullanarak modeli ve verileri GPU'ya atıp kodu bir de böyle çalıştırın ve ne kadar sürdüğünü hesaplayın. Süreleri aşağıdaki tabloya koyun. GPU için Google Colab ya da Kaggle'ı kullanabilirsiniz, iki ortam da her hafta saatlerce GPU hakkı veriyor.\n"
      ],
      "metadata": {
        "id": "OBcl40laKkOB"
      }
    },
    {
      "cell_type": "markdown",
      "source": [
        "Ortam    Sure (saniye)\n",
        "---\n",
        "CPU      17.67 \n",
        "---\n",
        "GPU      18.81 "
      ],
      "metadata": {
        "id": "vrrrdh2XHv5r"
      }
    }
  ]
}